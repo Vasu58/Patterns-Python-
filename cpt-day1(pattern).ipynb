{
 "cells": [
  {
   "cell_type": "markdown",
   "id": "5fe7856c",
   "metadata": {},
   "source": [
    "# pattern\n"
   ]
  },
  {
   "cell_type": "code",
   "execution_count": 104,
   "id": "cb22fa37",
   "metadata": {},
   "outputs": [
    {
     "name": "stdout",
     "output_type": "stream",
     "text": [
      "enter the row number:4\n",
      "enter the column number:4\n",
      "* * * * \n",
      "* * * * \n",
      "* * * * \n",
      "* * * * \n"
     ]
    }
   ],
   "source": [
    "#o/p=square pattern\n",
    "# * * * *\n",
    "# * * * *\n",
    "# * * * *\n",
    "# * * * *\n",
    "n=int(input(\"enter the row number:\"))\n",
    "m=int(input(\"enter the column number:\"))\n",
    "for i in range(1,n+1):\n",
    "    for j in range(1,m+1):\n",
    "        print(\"*\",end=' ')\n",
    "    print()"
   ]
  },
  {
   "cell_type": "code",
   "execution_count": 2,
   "id": "627d2813",
   "metadata": {},
   "outputs": [
    {
     "name": "stdout",
     "output_type": "stream",
     "text": [
      "enter the number :4\n",
      "* \n",
      "* * \n",
      "* * * \n",
      "* * * * \n"
     ]
    }
   ],
   "source": [
    "#0/p=inceasing triangle or pyramid pattern\n",
    "# *   i= row=0\n",
    "# * *  i=1\n",
    "# * * * i=2\n",
    "# * * * * i=34\n",
    "\n",
    "n=int(input(\"enter the number :\"))\n",
    "for i in range(1,n+1):\n",
    "    for j in range(i):\n",
    "        print(\"*\",end=' ')\n",
    "    print()"
   ]
  },
  {
   "cell_type": "code",
   "execution_count": 12,
   "id": "b52e7e5b",
   "metadata": {},
   "outputs": [
    {
     "name": "stdout",
     "output_type": "stream",
     "text": [
      "enter the number :4\n",
      "* * * * \n",
      "* * * \n",
      "* * \n",
      "* \n"
     ]
    }
   ],
   "source": [
    "#0/p=decreasing triangle or pyramid pattern\n",
    "# * * * * i= row=0\n",
    "# * * *   i=1\n",
    "# * *     i=2\n",
    "# *       i=3\n",
    "n=int(input(\"enter the number :\"))\n",
    "for i in range(0,n):\n",
    "    for j in range(n-i): #or for j in range(i,n)\n",
    "        print(\"*\",end=' ')\n",
    "    print()"
   ]
  },
  {
   "cell_type": "code",
   "execution_count": 4,
   "id": "b4b182f3",
   "metadata": {},
   "outputs": [
    {
     "name": "stdout",
     "output_type": "stream",
     "text": [
      "enter the number :5\n",
      "* * * * \n",
      "* * * \n",
      "* * \n",
      "* \n",
      "\n"
     ]
    }
   ],
   "source": [
    "#0/p=decreasing triangle or pyramid pattern\n",
    "# * * * * i= row=0\n",
    "# * * *   i=1\n",
    "# * *     i=2\n",
    "# *       i=3\n",
    "n=int(input(\"enter the number :\"))\n",
    "for i in range(1,n+1):\n",
    "    for j in range(i,n):\n",
    "        print(\"*\",end=' ')\n",
    "    print()"
   ]
  },
  {
   "cell_type": "code",
   "execution_count": 1,
   "id": "190ef978",
   "metadata": {},
   "outputs": [
    {
     "name": "stdout",
     "output_type": "stream",
     "text": [
      "enter the number :6\n",
      "\n",
      "0 \n",
      "0 1 \n",
      "0 1 0 \n",
      "0 1 0 1 \n",
      "0 1 0 1 0 \n",
      "0 1 0 1 0 1 \n"
     ]
    }
   ],
   "source": [
    "#### 0/p=inceasing triangle or pyramid pattern\n",
    "# 0          i=row=0\n",
    "# 0 1        i=1\n",
    "# 0 1 0      i=2\n",
    "# 0 1 0 1    i=3\n",
    "# 0 1 0 1 0  i=4\n",
    "n=int(input(\"enter the number :\"))\n",
    "for i in range(0,n+1):\n",
    "    for j in range(i):\n",
    "        print(j%2,end=' ')\n",
    "    print()\n",
    "        \n",
    "        "
   ]
  },
  {
   "cell_type": "code",
   "execution_count": 1,
   "id": "877ba943",
   "metadata": {},
   "outputs": [
    {
     "name": "stdout",
     "output_type": "stream",
     "text": [
      "4\n",
      "1 \n",
      "1 2 \n",
      "1 2 3 \n",
      "1 2 3 4 \n"
     ]
    }
   ],
   "source": [
    "n=int(input())\n",
    "for i in range(1,n+1):\n",
    "    for j in range(1,i+1):\n",
    "        print(j,end=' ')\n",
    "    print()"
   ]
  },
  {
   "cell_type": "code",
   "execution_count": 147,
   "id": "3aa9f5e4",
   "metadata": {},
   "outputs": [
    {
     "name": "stdout",
     "output_type": "stream",
     "text": [
      "4\n",
      "\n",
      "0 \n",
      "0 1 \n",
      "0 1 2 \n",
      "0 1 2 0 \n"
     ]
    }
   ],
   "source": [
    "n=int(input())\n",
    "for i in range(0,n+1):\n",
    "    for j in range(i):\n",
    "        print(j%3,end=' ')\n",
    "    print()"
   ]
  },
  {
   "cell_type": "code",
   "execution_count": 5,
   "id": "c777b19e",
   "metadata": {},
   "outputs": [
    {
     "name": "stdout",
     "output_type": "stream",
     "text": [
      "7\n",
      "0 1 \n",
      "0 1 2 \n",
      "0 1 2 3 \n",
      "0 1 2 3 4 \n",
      "0 1 2 3 4 5 \n",
      "0 1 2 3 4 5 6 \n",
      "0 1 2 3 4 5 6 0 \n"
     ]
    }
   ],
   "source": [
    "n=int(input())\n",
    "for i in range(1,n+1):\n",
    "    for j in range(i):\n",
    "        print(j%7,end=' ')\n",
    "    print()"
   ]
  },
  {
   "cell_type": "code",
   "execution_count": 2,
   "id": "7d64c61c",
   "metadata": {},
   "outputs": [
    {
     "name": "stdout",
     "output_type": "stream",
     "text": [
      "enter the number :7\n",
      "\n",
      "a \n",
      "a b \n",
      "a b a \n",
      "a b a b \n",
      "a b a b a \n",
      "a b a b a b \n",
      "a b a b a b a \n"
     ]
    }
   ],
   "source": [
    "#### 0/p=inceasing triangle or pyramid pattern\n",
    "# a          i=row=0\n",
    "# a b        i=1\n",
    "# a b a      i=2\n",
    "# a b a b    i=3\n",
    "# a b a b a  i=4\n",
    "n=int(input(\"enter the number :\"))\n",
    "for i in range(0,n+1):\n",
    "    for j in range(i):\n",
    "        if j%2==0:\n",
    "            print(\"a\",end=' ')\n",
    "        else:\n",
    "            print(\"b\",end=' ')\n",
    "    print()\n",
    "        \n",
    "        "
   ]
  },
  {
   "cell_type": "code",
   "execution_count": 130,
   "id": "9a2a8a6f",
   "metadata": {},
   "outputs": [
    {
     "name": "stdout",
     "output_type": "stream",
     "text": [
      "4\n",
      "   *\n",
      "  **\n",
      " ***\n",
      "****\n"
     ]
    }
   ],
   "source": [
    "n=int(input())\n",
    "for i in range(1,n+1):\n",
    "    for j in range(i,n):\n",
    "        print(' ',end='')\n",
    "    for j in range(i):\n",
    "        print(\"*\",end='')\n",
    "    print()\n",
    "        "
   ]
  },
  {
   "cell_type": "code",
   "execution_count": 145,
   "id": "2e05bf1d",
   "metadata": {},
   "outputs": [
    {
     "name": "stdout",
     "output_type": "stream",
     "text": [
      "4\n",
      " ****\n",
      "  ***\n",
      "   **\n",
      "    *\n"
     ]
    }
   ],
   "source": [
    "n=int(input())\n",
    "for i in range(1,n+1):\n",
    "    for j in range(i):\n",
    "        print(' ',end='')\n",
    "    for j in range(n-i+1):\n",
    "        print(\"*\",end='')\n",
    "    print()"
   ]
  },
  {
   "cell_type": "code",
   "execution_count": 46,
   "id": "38ecb312",
   "metadata": {},
   "outputs": [
    {
     "name": "stdout",
     "output_type": "stream",
     "text": [
      "3\n",
      "* \n",
      "* * * \n",
      "* * * * * \n"
     ]
    }
   ],
   "source": [
    "n=int(input())\n",
    "k=1\n",
    "for i in range(1,n+1):\n",
    "    for j in range(1,k+1):\n",
    "        print(\"*\",end=' ')\n",
    "    k=k+2\n",
    "    print()"
   ]
  },
  {
   "cell_type": "code",
   "execution_count": 96,
   "id": "1071648b",
   "metadata": {
    "scrolled": true
   },
   "outputs": [
    {
     "name": "stdout",
     "output_type": "stream",
     "text": [
      "4\n",
      "   * \n",
      "  * * \n",
      " * * * \n",
      "* * * * \n"
     ]
    }
   ],
   "source": [
    "n=int(input())\n",
    "for i in range(0,n):\n",
    "    for j in range(0,n-i-1):\n",
    "        print(end=' ')\n",
    "    for j in range(0,i+1):\n",
    "        print(\"*\",end=' ')\n",
    "    print()"
   ]
  },
  {
   "cell_type": "code",
   "execution_count": 97,
   "id": "7f2a0c42",
   "metadata": {},
   "outputs": [
    {
     "name": "stdout",
     "output_type": "stream",
     "text": [
      "4\n",
      " * * * * \n",
      "  * * * \n",
      "   * * \n",
      "    * \n"
     ]
    }
   ],
   "source": [
    "n=int(input())\n",
    "for i in range(0,n):\n",
    "    for j in range(0,i+1):\n",
    "        print(end=' ')\n",
    "    for j in range(0,n-i-0):\n",
    "        print(\"*\",end=' ')\n",
    "    print()"
   ]
  },
  {
   "cell_type": "code",
   "execution_count": 126,
   "id": "6e35ee4e",
   "metadata": {},
   "outputs": [
    {
     "name": "stdout",
     "output_type": "stream",
     "text": [
      "4\n",
      "   * \n",
      "  * * \n",
      " * * * \n",
      "* * * * \n",
      "* * * * \n",
      " * * * \n",
      "  * * \n",
      "   * \n"
     ]
    }
   ],
   "source": [
    "n=int(input())\n",
    "for i in range(0,n):\n",
    "    for j in range(0,n-i-1):\n",
    "        print(end=' ')\n",
    "    for j in range(0,i+1):\n",
    "        print(\"*\",end=' ')\n",
    "    print()\n",
    "for i in range(0,n):\n",
    "    for j in range(,i+1):\n",
    "        print(end=' ')\n",
    "    for j in range(n-i):\n",
    "        print(\"*\",end=' ')\n",
    "    print()"
   ]
  },
  {
   "cell_type": "code",
   "execution_count": 6,
   "id": "00524d75",
   "metadata": {},
   "outputs": [
    {
     "name": "stdout",
     "output_type": "stream",
     "text": [
      "5\n",
      "----1\n",
      "---111\n",
      "--11111\n",
      "-1111111\n",
      "111111111\n"
     ]
    }
   ],
   "source": [
    "n=int(input())\n",
    "for i in range(1,n+1):\n",
    "    for j in range(i,n): # or for j in range(n-i)\n",
    "        print(\"-\",end='')\n",
    "    for j in range(i):\n",
    "        print(\"1\",end='')\n",
    "    for j in range(1,i): #  or for j in range(n-i+1,n)\n",
    "            print(\"1\",end='')\n",
    "    print()\n"
   ]
  },
  {
   "cell_type": "code",
   "execution_count": 5,
   "id": "3e9e5f55",
   "metadata": {},
   "outputs": [
    {
     "name": "stdout",
     "output_type": "stream",
     "text": [
      "5\n",
      "    1\n",
      "   111\n",
      "  11111\n",
      " 1111111\n",
      "111111111\n"
     ]
    }
   ],
   "source": [
    "n=int(input())\n",
    "for i in range(1,n+1):\n",
    "    for j in range(n-i):\n",
    "        print(\" \",end='')\n",
    "    for j in range(2*i-1):\n",
    "        print(\"1\",end='')\n",
    "    print()"
   ]
  },
  {
   "cell_type": "code",
   "execution_count": 4,
   "id": "f7692bc5",
   "metadata": {},
   "outputs": [
    {
     "name": "stdout",
     "output_type": "stream",
     "text": [
      "enter the rows:5\n",
      "6666666666\n",
      "6666--6666\n",
      "666----666\n",
      "66------66\n",
      "6--------6\n"
     ]
    }
   ],
   "source": [
    "#66666666\n",
    "#666  666 \n",
    "#66    66\n",
    "#6      6\n",
    "n=int(input(\"enter the rows:\"))\n",
    "for i in range(1,n+1):\n",
    "    for j in range(n-i+1):\n",
    "        print(\"6\",end='')\n",
    "    for j in range(i-1):\n",
    "        print(\"-\",end='')\n",
    "    for j in range(i-1):\n",
    "        print(\"-\",end='')\n",
    "    for j in range(n-i+1):\n",
    "        print(\"6\",end='')\n",
    "    print()\n",
    "    "
   ]
  },
  {
   "cell_type": "code",
   "execution_count": 11,
   "id": "32fb2199",
   "metadata": {},
   "outputs": [
    {
     "name": "stdout",
     "output_type": "stream",
     "text": [
      "enter the rows:5\n",
      "6666666666\n",
      "6666--6666\n",
      "666----666\n",
      "66------66\n",
      "6--------6\n",
      "6--------6\n",
      "66------66\n",
      "666----666\n",
      "6666--6666\n",
      "6666666666\n"
     ]
    }
   ],
   "source": [
    "#66666666\n",
    "#666  666 \n",
    "#66    66\n",
    "#6      6\n",
    "#6      6\n",
    "#66    66\n",
    "#666  666\n",
    "#66666666\n",
    "n=int(input(\"enter the rows:\"))\n",
    "for i in range(1,n+1):\n",
    "    for j in range(n-i+1): # or for j in range(i,n+1)\n",
    "        print(\"6\",end='')\n",
    "    for j in range(i-1): # or for j in range(1,i)\n",
    "        print(\"-\",end='')\n",
    "    for j in range(i-1): # or for j in range(1,i)\n",
    "        print(\"-\",end='')\n",
    "    for j in range(n-i+1):: # or for j in range(i,n+1)\n",
    "        print(\"6\",end='')\n",
    "    print()\n",
    "for i in range(1,n+1):\n",
    "    for j in range(i): # or you can write like this also # for j in range(1,i+1)\n",
    "        print(\"6\",end='')\n",
    "    for j in range(n-i): #  or you can write like this also for j in range(1,n-i+1)\n",
    "        print(\"-\",end='')\n",
    "    for j in range(n-i): #  or you can write like this also for j in range(1,n-i+1)\n",
    "        print(\"-\",end='')\n",
    "    for j in range(i): # or you can write like this also # for j in range(1,i+1)\n",
    "        print(\"6\",end='')\n",
    "    print()"
   ]
  },
  {
   "cell_type": "code",
   "execution_count": 12,
   "id": "fcb66d7d",
   "metadata": {},
   "outputs": [
    {
     "name": "stdout",
     "output_type": "stream",
     "text": [
      "6\n",
      "6\n",
      "cccccc\n",
      "cccccc\n",
      "cccccc\n",
      "cccccc\n",
      "cccccc\n",
      "cccccc\n"
     ]
    }
   ],
   "source": [
    "n=int(input())\n",
    "m=int(input())\n",
    "for i in range(1,n+1):\n",
    "    for j in range(1,m+1):\n",
    "        print(\"c\",end='')\n",
    "    print()"
   ]
  },
  {
   "cell_type": "code",
   "execution_count": 34,
   "id": "f8cd04e6",
   "metadata": {},
   "outputs": [
    {
     "name": "stdout",
     "output_type": "stream",
     "text": [
      "6\n",
      "c c c c c c \n",
      "c - - - - c \n",
      "c - - - - c \n",
      "c - - - - c \n",
      "c - - - - c \n",
      "c c c c c c \n"
     ]
    }
   ],
   "source": [
    "n=int(input())\n",
    "for i in range(1,n+1):\n",
    "    if(i>=2 and i!=n):\n",
    "        for j in range(i,i+1):\n",
    "            print(\"c\",end=' ')\n",
    "        for j in range(i,n):\n",
    "            print(\"-\",end=' ')\n",
    "        for j in range(1,i-1):\n",
    "            print(\"-\",end=' ')\n",
    "        for j in range(i,i+1):\n",
    "            print(\"c\",end=' ')\n",
    "    else:\n",
    "        for j in range(1,n+1):\n",
    "            print(\"c\",end=' ')\n",
    "    print()"
   ]
  },
  {
   "cell_type": "code",
   "execution_count": 4,
   "id": "7e37f0dc",
   "metadata": {},
   "outputs": [
    {
     "name": "stdout",
     "output_type": "stream",
     "text": [
      "5\n",
      "*\n",
      "**\n",
      "*-*\n",
      "*--*\n",
      "*---*\n",
      "*****\n"
     ]
    }
   ],
   "source": [
    "#x\n",
    "#xx\n",
    "#x-x\n",
    "#x--x\n",
    "#x---x\n",
    "#x----x\n",
    "#xxxxxxx\n",
    "n=int(input())#n=6\n",
    "print(\"*\")\n",
    "for i in range(1,n+1):\n",
    "    if i>=1 and i!=n:\n",
    "        for j in range(i,i+1):\n",
    "            print(\"*\",end='')\n",
    "        for j in range(i-1):\n",
    "            print(\"-\",end='')\n",
    "        for j in range(i,i+1):\n",
    "            print(\"*\",end='')\n",
    "    else:\n",
    "        for j in range(i):\n",
    "            print(\"*\",end='')\n",
    "    print()"
   ]
  },
  {
   "cell_type": "code",
   "execution_count": 11,
   "id": "9e9d5fe2",
   "metadata": {},
   "outputs": [
    {
     "name": "stdout",
     "output_type": "stream",
     "text": [
      "5\n",
      "*----\n",
      "**---\n",
      "*-*--\n",
      "*--*-\n",
      "*---*\n",
      "*****"
     ]
    }
   ],
   "source": [
    "n=int(input())\n",
    "for i in range(n):\n",
    "    for j in range(n):\n",
    "        if j==0 or i==j:\n",
    "            print(\"*\",end='')\n",
    "        else:\n",
    "            print('-',end='')\n",
    "    print()\n",
    "for i in range(n):\n",
    "     print(\"*\",end='')"
   ]
  },
  {
   "cell_type": "code",
   "execution_count": 5,
   "id": "9a987a03",
   "metadata": {},
   "outputs": [
    {
     "name": "stdout",
     "output_type": "stream",
     "text": [
      "5\n",
      "x\n",
      "xx\n",
      "x x\n",
      "x  x\n",
      "xxxxx\n",
      "x\n",
      "xx\n",
      "x x\n",
      "x  x\n",
      "xxxxx"
     ]
    }
   ],
   "source": [
    "n=int(input())\n",
    "print(\"x\")\n",
    "for i in range(1,n-1):\n",
    "    print(\"x\",end='')\n",
    "    for j in range(i-1):\n",
    "        print(\" \",end='')\n",
    "    for j in range(1):\n",
    "        print(\"x\",end='')\n",
    "    print()\n",
    "for i in range(n):\n",
    "    print(\"x\",end='')\n",
    "print()\n",
    "print(\"x\")\n",
    "for i in range(1,n-1):\n",
    "    print(\"x\",end='')\n",
    "    for j in range(i-1):\n",
    "        print(\" \",end='')\n",
    "    for j in range(1):\n",
    "        print(\"x\",end='')\n",
    "    print()\n",
    "for i in range(n):\n",
    "    print(\"x\",end='')\n",
    "   \n"
   ]
  },
  {
   "cell_type": "code",
   "execution_count": 34,
   "id": "51d23171",
   "metadata": {},
   "outputs": [
    {
     "name": "stdout",
     "output_type": "stream",
     "text": [
      "5\n",
      "x----\n",
      "xx---\n",
      "x-x--\n",
      "x--x-\n",
      "xxxxx\n",
      "x----\n",
      "xx---\n",
      "x-x--\n",
      "x--x-\n",
      "xxxxx\n"
     ]
    }
   ],
   "source": [
    "n=int(input())\n",
    "for i in range(n):\n",
    "    for j in range(n):\n",
    "        if(j==0 or i==(n/2) or i==j or (i==(n-1))):\n",
    "            print(\"x\",end='')\n",
    "        else:\n",
    "            print('-',end='')\n",
    "    print()\n",
    "for i in range(n):\n",
    "    for j in range(n):\n",
    "        if(j==0 or i==(n/2) or i==j or (i==(n-1))):\n",
    "            print(\"x\",end='')\n",
    "        else:\n",
    "            print('-',end='')\n",
    "    print()"
   ]
  },
  {
   "cell_type": "code",
   "execution_count": 5,
   "id": "0fb031da",
   "metadata": {},
   "outputs": [
    {
     "name": "stdout",
     "output_type": "stream",
     "text": [
      "5\n",
      "    *\n",
      "   *-*\n",
      "  *---*\n",
      " *-----*\n",
      "*********"
     ]
    }
   ],
   "source": [
    "n=int(input())\n",
    "for i in range(1,n):\n",
    "    for j in range(n-i):\n",
    "        print(\" \",end='')\n",
    "    print(\"*\",end='')\n",
    "    for j in range(2*i-3):\n",
    "        print(\"-\",end='')\n",
    "    if i!=1:\n",
    "        print(\"*\",end='')\n",
    "    print()\n",
    "for i in range(n*2-1):\n",
    "    print(\"*\",end='')"
   ]
  },
  {
   "cell_type": "code",
   "execution_count": 14,
   "id": "6f776a13",
   "metadata": {
    "scrolled": false
   },
   "outputs": [
    {
     "name": "stdout",
     "output_type": "stream",
     "text": [
      "5\n",
      "1 \n",
      "2 2 \n",
      "3 3 3 \n",
      "4 4 4 4 \n",
      "5 5 5 5 5 \n"
     ]
    }
   ],
   "source": [
    "n=int(input())\n",
    "for i in range(1,n+1):\n",
    "    for j in range(i):\n",
    "        print(i,end=' ')\n",
    "    print()"
   ]
  },
  {
   "cell_type": "code",
   "execution_count": 42,
   "id": "80090a39",
   "metadata": {},
   "outputs": [
    {
     "name": "stdout",
     "output_type": "stream",
     "text": [
      "5\n",
      "5 5 5 5 5 \n",
      "4 4 4 4 \n",
      "3 3 3 \n",
      "2 2 \n",
      "1 \n"
     ]
    }
   ],
   "source": [
    "n=int(input())\n",
    "for i in range(n,0,-1):\n",
    "    a=i\n",
    "    for j in range(0,i):\n",
    "        print(a,end=' ')\n",
    "    print()"
   ]
  },
  {
   "cell_type": "code",
   "execution_count": 16,
   "id": "2d3adfa3",
   "metadata": {},
   "outputs": [
    {
     "name": "stdout",
     "output_type": "stream",
     "text": [
      "5\n",
      "1 \n",
      "2 2 \n",
      "3 3 3 \n",
      "4 4 4 4 \n",
      "5 5 5 5 5 \n"
     ]
    }
   ],
   "source": [
    "def pyrmid(n):\n",
    "    for  i in range(1,n+1):\n",
    "        for j in range(i):\n",
    "            print(i,end=' ')\n",
    "        print()\n",
    "n=int(input())\n",
    "pyrmid(n)"
   ]
  },
  {
   "cell_type": "code",
   "execution_count": 17,
   "id": "f4bf4677",
   "metadata": {},
   "outputs": [
    {
     "name": "stdout",
     "output_type": "stream",
     "text": [
      "5\n",
      "1 \n",
      "1 2 \n",
      "1 2 3 \n",
      "1 2 3 4 \n",
      "1 2 3 4 5 \n"
     ]
    }
   ],
   "source": [
    "def pyrmid1(n):\n",
    "    for i in range(1,n+1):\n",
    "        for j in range(1,i+1):\n",
    "            print(j,end=' ')\n",
    "        print()\n",
    "n=int(input())\n",
    "pyrmid1(n)"
   ]
  },
  {
   "cell_type": "code",
   "execution_count": 12,
   "id": "99640dbb",
   "metadata": {},
   "outputs": [
    {
     "name": "stdout",
     "output_type": "stream",
     "text": [
      "5\n",
      "1 \n",
      "2 2 \n",
      "3 3 3 \n",
      "4 4 4 4 \n",
      "5 5 5 5 5 \n"
     ]
    }
   ],
   "source": [
    "n=int(input())\n",
    "for i in range(1,n+1):\n",
    "    for j in range(i):\n",
    "        print(i,end=\" \")\n",
    "    print()"
   ]
  },
  {
   "cell_type": "code",
   "execution_count": 27,
   "id": "c7df5775",
   "metadata": {},
   "outputs": [
    {
     "name": "stdout",
     "output_type": "stream",
     "text": [
      "5\n",
      "1 2 3 4 5 \n",
      "1 2 3 4 \n",
      "1 2 3 \n",
      "1 2 \n",
      "1 \n"
     ]
    }
   ],
   "source": [
    "n=int(input())\n",
    "for i in range(1,n+1):\n",
    "    for j in range(1,n-i+2):\n",
    "        print(j,end=\" \")\n",
    "    print()"
   ]
  },
  {
   "cell_type": "code",
   "execution_count": 38,
   "id": "6b840513",
   "metadata": {},
   "outputs": [
    {
     "name": "stdout",
     "output_type": "stream",
     "text": [
      "5\n",
      "1 \n",
      "2 2 2 \n",
      "3 3 3 3 3 \n",
      "4 4 4 4 4 4 4 \n",
      "5 5 5 5 5 5 5 5 5 \n"
     ]
    }
   ],
   "source": [
    "n=int(input())\n",
    "for i in range(1,n+1):\n",
    "    for j in range(i*2-1):\n",
    "        print(i,end=' ')\n",
    "    print()"
   ]
  },
  {
   "cell_type": "code",
   "execution_count": 12,
   "id": "50d78a5f",
   "metadata": {},
   "outputs": [
    {
     "name": "stdout",
     "output_type": "stream",
     "text": [
      "5\n",
      "    1\n",
      "   121\n",
      "  12321\n",
      " 1234321\n",
      "123454321\n"
     ]
    }
   ],
   "source": [
    "\n",
    "#   1\n",
    "#  121\n",
    "# 12321\n",
    "#1234321\n",
    "n=int(input())\n",
    "for i in range(1,n+1):\n",
    "    for j in range(i,n): # i=1,6=1,2,3,4,5 #i=1-->j=1,0,-1\n",
    "        print(\" \",end='')\n",
    "    for j in range(1,i+1):\n",
    "        print(j,end='')\n",
    "    for j in range(i-1,0,-1):\n",
    "        print(j,end='')\n",
    "    print()\n",
    "                               # i=1,6=1,2,3,4,5\n",
    "                             #i=1-->j=1,0,-1"
   ]
  },
  {
   "cell_type": "code",
   "execution_count": 13,
   "id": "0b808c5f",
   "metadata": {},
   "outputs": [
    {
     "name": "stdout",
     "output_type": "stream",
     "text": [
      "5\n",
      "    a\n",
      "   aba\n",
      "  abcba\n",
      " abcdcba\n",
      "abcdedcba\n"
     ]
    }
   ],
   "source": [
    "n=int(input())\n",
    "c=ord('a') # here ord() can tell the ascii character value\n",
    "for i in range(1,n+1):\n",
    "    for j in range(i,n): # i=1,6=1,2,3,4,5 #i=1-->j=1,0,-1\n",
    "        print(\" \",end='')\n",
    "    for j in range(1,i+1):\n",
    "        print(chr(c+j-1),end='')\n",
    "    for j in range(i-1,0,-1):\n",
    "        print(chr(c+j-1),end='')\n",
    "    print()"
   ]
  },
  {
   "cell_type": "code",
   "execution_count": 5,
   "id": "107c6abc",
   "metadata": {},
   "outputs": [
    {
     "name": "stdout",
     "output_type": "stream",
     "text": [
      "5\n",
      "    |\n",
      "   /|\\\n",
      "  //|\\\\\n",
      " ///|\\\\\\\n",
      "////|\\\\\\\\\n"
     ]
    }
   ],
   "source": [
    "n=int(input())\n",
    "for i in range(1,n+1):\n",
    "    for j in range(i,n): # i=1,6=1,2,3,4,5 #i=1-->j=1,0,-1\n",
    "        print(\" \",end='')\n",
    "    for j in range(i-1,0,-1):\n",
    "        print(\"/\",end='')\n",
    "    print(\"|\",end='')\n",
    "    for j in range(i-1,0,-1):\n",
    "         print(\"\\\\\",end='')\n",
    "    print()"
   ]
  },
  {
   "cell_type": "code",
   "execution_count": 6,
   "id": "fe44150f",
   "metadata": {},
   "outputs": [
    {
     "name": "stdout",
     "output_type": "stream",
     "text": [
      "5\n",
      "||-----/|\\-----||\n",
      "||----//|\\\\----||\n",
      "||---///|\\\\\\---||\n",
      "||--////|\\\\\\\\--||\n",
      "||-/////|\\\\\\\\\\-||\n"
     ]
    }
   ],
   "source": [
    "n=int(input())\n",
    "for i in range(1,n+1):\n",
    "    print(\"||\",end='')\n",
    "    for j in range(n-i+1):\n",
    "        print(\"-\",end='')\n",
    "    for j in range(i):\n",
    "        print(\"/\",end='')\n",
    "    print(\"|\",end='')\n",
    "    for j in range(i):\n",
    "        print(\"\\\\\",end='')\n",
    "    for j in range(n-i+1):\n",
    "        print(\"-\",end='')\n",
    "    print(\"||\",end='')\n",
    "    print()\n",
    "\n",
    "\n"
   ]
  },
  {
   "cell_type": "code",
   "execution_count": 6,
   "id": "e921ed47",
   "metadata": {},
   "outputs": [
    {
     "name": "stdout",
     "output_type": "stream",
     "text": [
      "5\n",
      "||----/|\\----||\n",
      "||---//|\\\\---||\n",
      "||--///|\\\\\\--||\n",
      "||-////|\\\\\\\\-||\n",
      "||/////|\\\\\\\\\\||\n"
     ]
    }
   ],
   "source": [
    "n=int(input())\n",
    "for i in range(1,n+1):\n",
    "    print(\"||\",end='')\n",
    "    for j in range(n-i):\n",
    "        print(\"-\",end='')\n",
    "    for j in range(i):\n",
    "        print(\"/\",end='')\n",
    "    print(\"|\",end='')\n",
    "    for j in range(i):\n",
    "        print(\"\\\\\",end='')\n",
    "    for j in range(n-i):\n",
    "        print(\"-\",end='')\n",
    "    print(\"||\",end='')\n",
    "    print()\n",
    "\n",
    "\n"
   ]
  },
  {
   "cell_type": "code",
   "execution_count": 10,
   "id": "960606b9",
   "metadata": {},
   "outputs": [
    {
     "name": "stdout",
     "output_type": "stream",
     "text": [
      "5\n",
      "     **\n",
      "    *  *\n",
      "   *    *\n",
      "  *      *\n",
      " *        *\n",
      " *        *\n",
      "  *      *\n",
      "   *    *\n",
      "    *  *\n",
      "     **\n"
     ]
    }
   ],
   "source": [
    "n=int(input())\n",
    "for i in range(1,n+1):\n",
    "    for j in range(n-i+1):\n",
    "        print(\" \",end='')\n",
    "    for j in range(1):\n",
    "        print(\"*\",end='')\n",
    "    for j in range(2*i-2):\n",
    "        print(\" \",end='')\n",
    "    for j in range(1):\n",
    "        print(\"*\",end='')  \n",
    "    print()\n",
    "for i in range(1,n+1):\n",
    "    for j in range(i):\n",
    "        print(\" \",end='')\n",
    "    for j in range(1):\n",
    "        print(\"*\",end='')\n",
    "    for j in range(n-i):\n",
    "        print(\" \",end='')\n",
    "    for j in range(n-i):\n",
    "        print(\" \",end='')\n",
    "    for j in range(1):\n",
    "        print(\"*\",end='') \n",
    "    print()"
   ]
  },
  {
   "cell_type": "code",
   "execution_count": 19,
   "id": "188f71ef",
   "metadata": {},
   "outputs": [
    {
     "name": "stdout",
     "output_type": "stream",
     "text": [
      "5\n",
      "- * * * * * \n",
      "- - * * * * \n",
      "- - - * * * \n",
      "- - - - * * \n",
      "- - - - - * \n"
     ]
    }
   ],
   "source": [
    "n=int(input())\n",
    "for i in range(1,n+1):\n",
    "    for j in range(i):\n",
    "        print(\"-\",end=' ')\n",
    "    for _ in range(n-i+1):\n",
    "        print(\"*\",end=' ')\n",
    "    print()"
   ]
  },
  {
   "cell_type": "code",
   "execution_count": 31,
   "id": "b3f5eb3c",
   "metadata": {},
   "outputs": [
    {
     "name": "stdout",
     "output_type": "stream",
     "text": [
      "4\n",
      "1 \n",
      "3 3 3 \n",
      "5 5 5 5 5 \n",
      "7 7 7 7 7 7 7 \n"
     ]
    }
   ],
   "source": [
    "n=int(input())\n",
    "num=1\n",
    "for i in range(1,n+1):\n",
    "    for j in range(1,num+1):\n",
    "        print(num,end=\" \")\n",
    "    num+=2\n",
    "    print()"
   ]
  },
  {
   "cell_type": "code",
   "execution_count": 8,
   "id": "a34f27ea",
   "metadata": {},
   "outputs": [
    {
     "name": "stdout",
     "output_type": "stream",
     "text": [
      "121-\n",
      "false\n"
     ]
    }
   ],
   "source": [
    "x=input()\n",
    "if x==x[::-1]:\n",
    "    print('true')\n",
    "else:\n",
    "    print('false')"
   ]
  },
  {
   "cell_type": "code",
   "execution_count": 5,
   "id": "acdf9623",
   "metadata": {},
   "outputs": [
    {
     "name": "stdout",
     "output_type": "stream",
     "text": [
      "5\n",
      "6\n"
     ]
    }
   ],
   "source": [
    "a=['t','t','t','f','f','f']\n",
    "l,h=0,len(a)-1\n",
    "print(h)\n",
    "while l<=h:\n",
    "    mid=(l+h)//2\n",
    "    if a[mid]==False:\n",
    "        if mid==0:\n",
    "            print(mid)\n",
    "        elif a(mid-1)==True:\n",
    "            print(mid)\n",
    "        else:\n",
    "            h=mid-1\n",
    "    else:\n",
    "        l=mid+1\n",
    "print(len(a))\n"
   ]
  },
  {
   "cell_type": "code",
   "execution_count": null,
   "id": "b0ea86d4",
   "metadata": {},
   "outputs": [],
   "source": []
  }
 ],
 "metadata": {
  "kernelspec": {
   "display_name": "Python 3 (ipykernel)",
   "language": "python",
   "name": "python3"
  },
  "language_info": {
   "codemirror_mode": {
    "name": "ipython",
    "version": 3
   },
   "file_extension": ".py",
   "mimetype": "text/x-python",
   "name": "python",
   "nbconvert_exporter": "python",
   "pygments_lexer": "ipython3",
   "version": "3.11.5"
  }
 },
 "nbformat": 4,
 "nbformat_minor": 5
}
